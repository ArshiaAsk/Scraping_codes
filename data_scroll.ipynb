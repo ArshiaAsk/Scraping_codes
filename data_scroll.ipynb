{
 "cells": [
  {
   "cell_type": "code",
   "id": "initial_id",
   "metadata": {
    "collapsed": true,
    "ExecuteTime": {
     "end_time": "2025-01-11T10:28:35.651285Z",
     "start_time": "2025-01-11T10:28:34.712033Z"
    }
   },
   "source": [
    "from selenium import webdriver\n",
    "from selenium.webdriver.common.keys import Keys\n",
    "from selenium.webdriver.common.by import By\n",
    "from selenium.webdriver.support.ui import WebDriverWait\n",
    "from selenium.webdriver.support import expected_conditions as EC\n",
    "from selenium.webdriver.support.ui import Select\n",
    "import time\n",
    "import random\n",
    "import requests"
   ],
   "outputs": [],
   "execution_count": 35
  },
  {
   "metadata": {
    "ExecuteTime": {
     "end_time": "2025-01-11T10:19:10.584580Z",
     "start_time": "2025-01-11T10:19:01.566918Z"
    }
   },
   "cell_type": "code",
   "source": [
    "driver = webdriver.Firefox()\n",
    "driver.get('https://www.varzesh3.com/news')\n",
    "driver.maximize_window()"
   ],
   "id": "4cce6154f708f70c",
   "outputs": [],
   "execution_count": 31
  },
  {
   "metadata": {
    "ExecuteTime": {
     "end_time": "2025-01-11T10:19:47.884193Z",
     "start_time": "2025-01-11T10:19:10.597720Z"
    }
   },
   "cell_type": "code",
   "source": [
    "time.sleep(5)\n",
    "end_of_scroll = driver.execute_script('return document.body.scrollHeight')\n",
    "while True:\n",
    "    driver.execute_script('window.scrollTo(0,document.body.scrollHeight);')\n",
    "    time.sleep(2)\n",
    "    my_scroll = driver.execute_script('return document.body.scrollHeight')\n",
    "    if my_scroll == end_of_scroll:\n",
    "        break\n",
    "    end_of_scroll = my_scroll\n"
   ],
   "id": "f5552ddd75ed90ac",
   "outputs": [],
   "execution_count": 32
  },
  {
   "metadata": {
    "ExecuteTime": {
     "end_time": "2025-01-11T10:19:47.918802Z",
     "start_time": "2025-01-11T10:19:47.914990Z"
    }
   },
   "cell_type": "code",
   "source": [
    "# text = driver.find_elements(By.TAG_NAME,'p')\n",
    "# for t in text:\n",
    "#     print(t.text)"
   ],
   "id": "3597ce62c4610c70",
   "outputs": [],
   "execution_count": 33
  },
  {
   "metadata": {
    "ExecuteTime": {
     "end_time": "2025-01-11T10:39:06.920369Z",
     "start_time": "2025-01-11T10:37:47.650562Z"
    }
   },
   "cell_type": "code",
   "source": [
    "posts = []\n",
    "image = driver.find_elements(By.CSS_SELECTOR, 'div.news-cover-image img')\n",
    "for img in image:\n",
    "    post = img.get_attribute('src')\n",
    "    posts.append(post)\n",
    "for pic in posts:\n",
    "    name = random.randrange(1,200)\n",
    "    with requests.get(pic, stream=True) as r:\n",
    "        with open(str(name)+\".jpg\", 'wb') as f:\n",
    "            for data in r.iter_content(1024):\n",
    "                f.write(data)"
   ],
   "id": "2743ec831983cfa0",
   "outputs": [],
   "execution_count": 42
  },
  {
   "metadata": {
    "ExecuteTime": {
     "end_time": "2025-01-11T10:19:49.927257Z",
     "start_time": "2025-01-11T10:19:49.921862Z"
    }
   },
   "cell_type": "code",
   "source": "",
   "id": "6bf5ec2a62e1cf5d",
   "outputs": [],
   "execution_count": null
  }
 ],
 "metadata": {
  "kernelspec": {
   "display_name": "Python 3",
   "language": "python",
   "name": "python3"
  },
  "language_info": {
   "codemirror_mode": {
    "name": "ipython",
    "version": 2
   },
   "file_extension": ".py",
   "mimetype": "text/x-python",
   "name": "python",
   "nbconvert_exporter": "python",
   "pygments_lexer": "ipython2",
   "version": "2.7.6"
  }
 },
 "nbformat": 4,
 "nbformat_minor": 5
}
